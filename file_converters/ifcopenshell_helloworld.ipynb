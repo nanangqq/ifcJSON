{
 "cells": [
  {
   "cell_type": "code",
   "execution_count": null,
   "metadata": {},
   "outputs": [],
   "source": [
    "# https://blenderbim.org/docs-python/ifcopenshell-python/hello_world.html"
   ]
  },
  {
   "cell_type": "code",
   "execution_count": 2,
   "metadata": {},
   "outputs": [],
   "source": [
    "import ifcopenshell\n",
    "model = ifcopenshell.open('./AC20-FZK-Haus.ifc')"
   ]
  },
  {
   "cell_type": "code",
   "execution_count": 3,
   "metadata": {},
   "outputs": [
    {
     "name": "stdout",
     "output_type": "stream",
     "text": [
      "IFC4\n"
     ]
    }
   ],
   "source": [
    "print(model.schema)"
   ]
  },
  {
   "cell_type": "code",
   "execution_count": 6,
   "metadata": {},
   "outputs": [
    {
     "name": "stdout",
     "output_type": "stream",
     "text": [
      "#1=IfcPerson($,'Nicht definiert',$,$,$,$,$,$)\n"
     ]
    }
   ],
   "source": [
    "print(model.by_id(1))"
   ]
  },
  {
   "cell_type": "code",
   "execution_count": 10,
   "metadata": {},
   "outputs": [
    {
     "name": "stdout",
     "output_type": "stream",
     "text": [
      "#15042=IfcWallStandardCase('2XPyKWY018sA1ygZKgQPtU',#12,'Wand-Int-ERDG-4',$,$,#14983,#15037,'BC6F0F70-6195-495E-A2-FC-239713029DB1',$)\n"
     ]
    }
   ],
   "source": [
    "print(model.by_guid('2XPyKWY018sA1ygZKgQPtU'))"
   ]
  },
  {
   "cell_type": "code",
   "execution_count": 8,
   "metadata": {},
   "outputs": [
    {
     "name": "stdout",
     "output_type": "stream",
     "text": [
      "13\n"
     ]
    }
   ],
   "source": [
    "walls = model.by_type('IfcWall')\n",
    "print(len(walls))"
   ]
  },
  {
   "cell_type": "code",
   "execution_count": 9,
   "metadata": {},
   "outputs": [
    {
     "data": {
      "text/plain": [
       "#15042=IfcWallStandardCase('2XPyKWY018sA1ygZKgQPtU',#12,'Wand-Int-ERDG-4',$,$,#14983,#15037,'BC6F0F70-6195-495E-A2-FC-239713029DB1',$)"
      ]
     },
     "execution_count": 9,
     "metadata": {},
     "output_type": "execute_result"
    }
   ],
   "source": [
    "walls[0]"
   ]
  },
  {
   "cell_type": "code",
   "execution_count": 11,
   "metadata": {},
   "outputs": [
    {
     "name": "stdout",
     "output_type": "stream",
     "text": [
      "IfcWallStandardCase\n"
     ]
    }
   ],
   "source": [
    "wall = model.by_type('IfcWall')[0]\n",
    "print(wall.is_a()) # Returns 'IfcWall'"
   ]
  },
  {
   "cell_type": "code",
   "execution_count": 12,
   "metadata": {},
   "outputs": [
    {
     "name": "stdout",
     "output_type": "stream",
     "text": [
      "True\n",
      "True\n",
      "False\n"
     ]
    }
   ],
   "source": [
    "print(wall.is_a('IfcWall')) # Returns True\n",
    "print(wall.is_a('IfcElement')) # Returns True\n",
    "print(wall.is_a('IfcWindow')) # Returns False"
   ]
  },
  {
   "cell_type": "code",
   "execution_count": 13,
   "metadata": {},
   "outputs": [
    {
     "name": "stdout",
     "output_type": "stream",
     "text": [
      "15042\n"
     ]
    }
   ],
   "source": [
    "print(wall.id())"
   ]
  },
  {
   "cell_type": "code",
   "execution_count": 14,
   "metadata": {},
   "outputs": [
    {
     "name": "stdout",
     "output_type": "stream",
     "text": [
      "2XPyKWY018sA1ygZKgQPtU\n",
      "Wand-Int-ERDG-4\n"
     ]
    }
   ],
   "source": [
    "print(wall[0]) # The first attribute is the GlobalId\n",
    "print(wall[2]) # The third attribute is the Name"
   ]
  },
  {
   "cell_type": "code",
   "execution_count": 17,
   "metadata": {},
   "outputs": [],
   "source": [
    "from pprint import pprint"
   ]
  },
  {
   "cell_type": "code",
   "execution_count": 18,
   "metadata": {},
   "outputs": [
    {
     "name": "stdout",
     "output_type": "stream",
     "text": [
      "{'Description': None,\n",
      " 'GlobalId': '2XPyKWY018sA1ygZKgQPtU',\n",
      " 'Name': 'Wand-Int-ERDG-4',\n",
      " 'ObjectPlacement': #14983=IfcLocalPlacement(#477,#14982),\n",
      " 'ObjectType': None,\n",
      " 'OwnerHistory': #12=IfcOwnerHistory(#7,#11,$,.ADDED.,$,$,$,1482339244),\n",
      " 'PredefinedType': None,\n",
      " 'Representation': #15037=IfcProductDefinitionShape($,$,(#15016,#15024,#15033)),\n",
      " 'Tag': 'BC6F0F70-6195-495E-A2-FC-239713029DB1',\n",
      " 'id': 15042,\n",
      " 'type': 'IfcWallStandardCase'}\n"
     ]
    }
   ],
   "source": [
    "# Gives us a dictionary of attributes, such as:\n",
    "# {'id': 8, 'type': 'IfcWall', 'GlobalId': '2_qMTAIHrEYu0vYcqK8cBX', ... }\n",
    "pprint(wall.get_info())"
   ]
  },
  {
   "cell_type": "code",
   "execution_count": 19,
   "metadata": {},
   "outputs": [
    {
     "name": "stdout",
     "output_type": "stream",
     "text": [
      "{'AC_Pset_Name': {'Name': 'Wand-Int-ERDG-4', 'id': 15087},\n",
      " 'ArchiCADProperties': {'ARCHICAD IFC ID': '2XPyKWY018sA1ygZKgQPtU',\n",
      "                        'Anzeigen auf Umbau-Filter': 'Alle relevanten Filter',\n",
      "                        'Außenseite Oberfläche': 'Anstrich',\n",
      "                        'Baustoff / Mehrschichtiger Aufbau / Profil / Schraffur': 'Leichtbeton '\n",
      "                                                                                  '102890359',\n",
      "                        'Baustoff/Mehrschicht/Profil': 'Leichtbeton 102890359',\n",
      "                        'Ebene': 'Innenwände',\n",
      "                        'Eindeutige ID': 'BC6F0F70-6195-495E-A2FC-239713029DB1',\n",
      "                        'Element-Klassifizierung': 'Wand',\n",
      "                        'Etikettentext': '',\n",
      "                        'Externe IFC ID': '',\n",
      "                        'Geometriemethode': 'Uni',\n",
      "                        'Geschoss für Oberkantenverknüpfung': 'Nicht verknüpft',\n",
      "                        'Geschützt': False,\n",
      "                        'Innenseite Oberfläche': 'Anstrich',\n",
      "                        'Innerer Neigungswinkel': 90.0,\n",
      "                        'Kompakte Element-ID': 'Wand-Int-ERDG-4',\n",
      "                        'Komplette Element-ID': 'Wand-Int-ERDG-4',\n",
      "                        'Lage': 'Nicht definiert',\n",
      "                        'Lage der Referenzlinie': 'Außen',\n",
      "                        'Name des Sachmerkmal-Objekts': '',\n",
      "                        'Oberfläche Kante': 'Anstrich',\n",
      "                        'Raumname': 'Wohnen',\n",
      "                        'Raumnummer': '5',\n",
      "                        'Struktur - Typ': 'Einfach',\n",
      "                        'Tragende Funktion': 'Nicht definiert',\n",
      "                        'Typ': 'Wand',\n",
      "                        'Umbau-Status': 'Bestand',\n",
      "                        'Ursprungsgeschoss': 'Erdgeschoss',\n",
      "                        'Verknüpfte Änderungen': '',\n",
      "                        'Wand Neigungstyp': 'gerade',\n",
      "                        'id': 15124,\n",
      "                        'Äußerer Neigungswinkel': 90.0},\n",
      " 'ArchiCADQuantities': {'Abstand Oberkante': 0.0,\n",
      "                        'Abstand zu Ursprungsgeschoss': 0.0,\n",
      "                        'Analytische Oberfläche der Öffnungen an der Außenseite': 0.0,\n",
      "                        'Analytische Oberfläche der Öffnungen an der Innenseite': 0.0,\n",
      "                        'Analytisches Volumen der Öffnungen in der Wand': 0.0,\n",
      "                        'Anzahl der Durchbrüche (Anzahl der leeren Öffnungen)': 0.0,\n",
      "                        'Anzahl der Fenster': 0.0,\n",
      "                        'Anzahl der Stützen': 0.0,\n",
      "                        'Anzahl der Türen': 0.0,\n",
      "                        'Brutto-Volumen der Wand ': 2.502,\n",
      "                        'Brutto-Wandoberflächenbereich an der Außenseite': 10.125,\n",
      "                        'Brutto-Wandoberflächenbereich an der Innenseite': 10.725,\n",
      "                        'Dicke': 0.24,\n",
      "                        'Durchschnittliche Länge': 4.17,\n",
      "                        'Dämmungsschichtdicke': 0.0,\n",
      "                        'Fläche': 1.0008,\n",
      "                        'Fläche der Wand': 1.0008,\n",
      "                        'Höhe': 2.5,\n",
      "                        'Höhe zu Geschoss': 0.0,\n",
      "                        'Höhenangabe zum Projekt-Nullpunkt': 0.0,\n",
      "                        'Kombinierte Breite der Fenster': 0.0,\n",
      "                        'Kombinierte Breite der Türen': 0.0,\n",
      "                        'Konditionale Länge an der Außenseite': 4.05,\n",
      "                        'Konditionale Länge an der Innenseite': 4.29,\n",
      "                        'Konditionaler Oberflächenbereich an der Außenseite': 10.125,\n",
      "                        'Konditionaler Oberflächenbereich an der Innenseite': 10.725,\n",
      "                        'Konditionales Schichtvolumen an der Außenseite': 0.0,\n",
      "                        'Konditionales Volumen': 2.49624,\n",
      "                        'Konditionales Wand-Schichtvolumen an der Innenseite': 0.0,\n",
      "                        'Luftschichtdicke': 0.0,\n",
      "                        'Länge der Referenzlinie': 4.59,\n",
      "                        'Länge der Wand in der Achse': 4.17,\n",
      "                        'Maximale Höhe der Wand': 2.5,\n",
      "                        'Maximale Höhe der Wandschicht an der Außenseite': 0.0,\n",
      "                        'Maximale Höhe der Wandschicht an der Innenseite': 0.0,\n",
      "                        'Minimale Höhe der Wand': 2.26,\n",
      "                        'Minimale Höhe der Wandschicht an der Außenseite': 0.0,\n",
      "                        'Minimale Höhe der Wandschicht an der Innenseite': 0.0,\n",
      "                        'Netto-Oberflächenbereich an den Kanten': 3.35824588643,\n",
      "                        'Netto-Oberflächenbereich an der Außenseite': 10.125,\n",
      "                        'Netto-Oberflächenbereich an der Innenseite': 10.725,\n",
      "                        'Netto-Volumen': 2.49624,\n",
      "                        'Oberflächenbereich': 10.125,\n",
      "                        'Oberflächenbereich der Fenster in der Wand': 0.0,\n",
      "                        'Oberflächenbereich der Türen in der Wand': 0.0,\n",
      "                        'Oberflächenbereich der leeren Öffnungen in der Wand': 0.0,\n",
      "                        'Umfang der Wand': 8.91941125497,\n",
      "                        'Volumen der Stützen': 0.0,\n",
      "                        'Wand-Schichtdicke an der Außenseite': 0.0,\n",
      "                        'Wand-Schichtdicke an der Innenseite': 0.0,\n",
      "                        'Wand-Schichtvolumen an der Außenseite': 0.0,\n",
      "                        'Wand-Schichtvolumen an der Innenseite': 0.0,\n",
      "                        'Wandlänge an der Außenseite': 4.05,\n",
      "                        'Wandlänge an der Innenseite': 4.29,\n",
      "                        'Wandstärke am Ende': 0.24,\n",
      "                        'id': 15229},\n",
      " 'BaseQuantities': {'GrossFootprintArea': 1.0008,\n",
      "                    'GrossSideArea': 10.425,\n",
      "                    'GrossVolume': 2.49624,\n",
      "                    'Height': 2.5,\n",
      "                    'Length': 4.17,\n",
      "                    'NetFootprintArea': 1.0008,\n",
      "                    'NetSideArea': 10.425,\n",
      "                    'NetVolume': 2.49624,\n",
      "                    'Width': 0.24,\n",
      "                    'id': 15169},\n",
      " 'Pset_WallCommon': {'ThermalTransmittance': 1.5, 'id': 15079}}\n"
     ]
    }
   ],
   "source": [
    "import ifcopenshell.util\n",
    "import ifcopenshell.util.element\n",
    "pprint(ifcopenshell.util.element.get_psets(wall))"
   ]
  },
  {
   "cell_type": "code",
   "execution_count": 21,
   "metadata": {},
   "outputs": [
    {
     "name": "stdout",
     "output_type": "stream",
     "text": [
      "(#15082=IfcRelDefinesByProperties('1XHlCNqAFH0tlvMzR6N0fY',#12,$,$,(#15042),#15079),\n",
      " #15090=IfcRelDefinesByProperties('28j1CHGQqsg8bOIv_AhSyO',#12,$,$,(#15042),#15087),\n",
      " #15157=IfcRelDefinesByProperties('16oiHR3wk3Xm_oKuvXa7iw',#12,$,$,(#15042),#15124),\n",
      " #15171=IfcRelDefinesByProperties('2rF$g0UZGGPpjaTWxrJdtz',#12,$,$,(#15042),#15169),\n",
      " #15231=IfcRelDefinesByProperties('3Q0nMR5elnJFWzAhgkZqe1',#12,$,$,(#15042),#15229))\n"
     ]
    }
   ],
   "source": [
    "pprint(wall.IsDefinedBy)"
   ]
  },
  {
   "cell_type": "code",
   "execution_count": 22,
   "metadata": {},
   "outputs": [
    {
     "name": "stdout",
     "output_type": "stream",
     "text": [
      "{#15074=IfcRelAssociatesMaterial('0Oybh3lJJ2xSFV6WZ3tS9k',#12,$,$,(#15042),#15072),\n",
      " #17049=IfcRelConnectsPathElements('1vGdhxc6IUK2fPFUdKXu4r',#12,$,$,$,#17040,#15042,(),(),.ATSTART.,.ATEND.),\n",
      " #31484=IfcRelConnectsPathElements('2$XGtUghxM$ohkct50ncKC',#12,$,$,$,#31470,#15042,(),(),.ATEND.,.ATPATH.),\n",
      " #14517=IfcRelContainedInSpatialStructure('13J1BKcWxmCqHLM0nJ4nFJ',#12,$,$,(#14502,#15042,#15372,#15848,#16507,#16982,#17040,#17468,#18407,#18465,#18698,#19199,#19504,#20069,#20268,#20299,#20329,#20374,#20598,#20808,#21966,#23024,#23944,#27013,#27421,#27833,#28113,#31079,#31470,#31818,#32098,#32407,#32829,#33109,#33389,#33672,#34509,#35053),#479),\n",
      " #15157=IfcRelDefinesByProperties('16oiHR3wk3Xm_oKuvXa7iw',#12,$,$,(#15042),#15124),\n",
      " #15082=IfcRelDefinesByProperties('1XHlCNqAFH0tlvMzR6N0fY',#12,$,$,(#15042),#15079),\n",
      " #15090=IfcRelDefinesByProperties('28j1CHGQqsg8bOIv_AhSyO',#12,$,$,(#15042),#15087),\n",
      " #15171=IfcRelDefinesByProperties('2rF$g0UZGGPpjaTWxrJdtz',#12,$,$,(#15042),#15169),\n",
      " #15231=IfcRelDefinesByProperties('3Q0nMR5elnJFWzAhgkZqe1',#12,$,$,(#15042),#15229),\n",
      " #15253=IfcRelDefinesByType('05I0_KDnzQTr7CWw5aGQVc',#12,$,$,(#15042,#17040,#18465,#18698,#20598),#15234),\n",
      " #76511=IfcRelSpaceBoundary('0F8DHwVIWaA92A8pankadM',#12,'2ndLevel','2a',#20909,#15042,#76510,.PHYSICAL.,.INTERNAL.),\n",
      " #77287=IfcRelSpaceBoundary('3GVjzXXdGlJ3KdeRhHKfU_',#12,'2ndLevel','2a',#33774,#15042,#77286,.PHYSICAL.,.INTERNAL.)}\n"
     ]
    }
   ],
   "source": [
    "pprint(model.get_inverse(wall))"
   ]
  },
  {
   "cell_type": "code",
   "execution_count": 24,
   "metadata": {},
   "outputs": [
    {
     "name": "stdout",
     "output_type": "stream",
     "text": [
      "[#15042=IfcWallStandardCase('2XPyKWY018sA1ygZKgQPtU',#12,'Wand-Int-ERDG-4',$,$,#14983,#15037,'BC6F0F70-6195-495E-A2-FC-239713029DB1',$),\n",
      " #12=IfcOwnerHistory(#7,#11,$,.ADDED.,$,$,$,1482339244),\n",
      " #7=IfcPersonAndOrganization(#1,#3,$),\n",
      " #1=IfcPerson($,'Nicht definiert',$,$,$,$,$,$),\n",
      " #3=IfcOrganization($,'Nicht definiert',$,$,$),\n",
      " #11=IfcApplication(#10,'20.0.0','ARCHICAD-64','IFC2x3 add-on version: 4009 GER FULL'),\n",
      " #10=IfcOrganization('GS','GRAPHISOFT','GRAPHISOFT',$,$),\n",
      " #14983=IfcLocalPlacement(#477,#14982),\n",
      " #477=IfcLocalPlacement(#432,#476),\n",
      " #432=IfcLocalPlacement(#115,#431),\n",
      " #115=IfcLocalPlacement($,#114),\n",
      " #114=IfcAxis2Placement3D(#112,#110,#108),\n",
      " #112=IfcCartesianPoint((0.,0.,0.)),\n",
      " #110=IfcDirection((0.,0.,1.)),\n",
      " #108=IfcDirection((1.,0.,0.)),\n",
      " #431=IfcAxis2Placement3D(#429,#427,#425),\n",
      " #429=IfcCartesianPoint((0.,0.,0.)),\n",
      " #427=IfcDirection((0.,0.,1.)),\n",
      " #425=IfcDirection((1.,0.,0.)),\n",
      " #476=IfcAxis2Placement3D(#474,#472,#470),\n",
      " #474=IfcCartesianPoint((0.,0.,0.)),\n",
      " #472=IfcDirection((0.,0.,1.)),\n",
      " #470=IfcDirection((1.,0.,0.)),\n",
      " #14982=IfcAxis2Placement3D(#14980,#14978,#14976),\n",
      " #14980=IfcCartesianPoint((7.41,4.25,0.)),\n",
      " #14978=IfcDirection((0.,0.,1.)),\n",
      " #14976=IfcDirection((1.,0.,0.)),\n",
      " #15037=IfcProductDefinitionShape($,$,(#15016,#15024,#15033)),\n",
      " #15016=IfcShapeRepresentation(#118,'Body','SweptSolid',(#15006)),\n",
      " #118=IfcGeometricRepresentationSubContext('Body','Model',*,*,*,*,#62,$,.MODEL_VIEW.,$),\n",
      " #62=IfcGeometricRepresentationContext($,'Model',3,1.00000000000E-5,#59,#60),\n",
      " #59=IfcAxis2Placement3D(#57,#55,#51),\n",
      " #57=IfcCartesianPoint((0.,0.,0.)),\n",
      " #55=IfcDirection((0.,0.,1.)),\n",
      " #51=IfcDirection((1.,0.,0.)),\n",
      " #60=IfcDirection((0.766044443119,0.642787609687)),\n",
      " #15006=IfcExtrudedAreaSolid(#14994,#15003,#15004,2.5),\n",
      " #14994=IfcArbitraryClosedProfileDef(.AREA.,'',#14992),\n",
      " #14992=IfcPolyline((#14984,#14986,#14988,#14990,#14984)),\n",
      " #14984=IfcCartesianPoint((0.,-0.24)),\n",
      " #14986=IfcCartesianPoint((4.29,-0.24)),\n",
      " #14988=IfcCartesianPoint((4.29,0.)),\n",
      " #14990=IfcCartesianPoint((0.24,0.)),\n",
      " #15003=IfcAxis2Placement3D(#15001,#14999,#14997),\n",
      " #15001=IfcCartesianPoint((0.,0.,0.)),\n",
      " #14999=IfcDirection((0.,0.,1.)),\n",
      " #14997=IfcDirection((1.,0.,0.)),\n",
      " #15004=IfcDirection((0.,0.,1.)),\n",
      " #15024=IfcShapeRepresentation(#375,'Box','BoundingBox',(#15023)),\n",
      " #375=IfcGeometricRepresentationSubContext('Box','Plan',*,*,*,*,#374,$,.PLAN_VIEW.,$),\n",
      " #374=IfcGeometricRepresentationContext($,'Plan',3,1.00000000000E-5,#371,#372),\n",
      " #371=IfcAxis2Placement3D(#369,#367,#365),\n",
      " #369=IfcCartesianPoint((0.,0.,0.)),\n",
      " #367=IfcDirection((0.,0.,1.)),\n",
      " #365=IfcDirection((1.,0.,0.)),\n",
      " #372=IfcDirection((0.766044443119,0.642787609687)),\n",
      " #15023=IfcBoundingBox(#15021,4.29,0.24,2.5),\n",
      " #15021=IfcCartesianPoint((0.,-0.24,0.)),\n",
      " #15033=IfcShapeRepresentation(#15026,'Axis','Curve2D',(#15031)),\n",
      " #15026=IfcGeometricRepresentationSubContext('Axis','Model',*,*,*,*,#62,$,.MODEL_VIEW.,$),\n",
      " #15031=IfcPolyline((#15027,#15029)),\n",
      " #15027=IfcCartesianPoint((0.,0.)),\n",
      " #15029=IfcCartesianPoint((4.59,0.))]\n",
      "[#15042=IfcWallStandardCase('2XPyKWY018sA1ygZKgQPtU',#12,'Wand-Int-ERDG-4',$,$,#14983,#15037,'BC6F0F70-6195-495E-A2-FC-239713029DB1',$),\n",
      " #12=IfcOwnerHistory(#7,#11,$,.ADDED.,$,$,$,1482339244),\n",
      " #14983=IfcLocalPlacement(#477,#14982),\n",
      " #15037=IfcProductDefinitionShape($,$,(#15016,#15024,#15033))]\n"
     ]
    }
   ],
   "source": [
    "pprint(model.traverse(wall))\n",
    "# Or, let's just go down one level deep\n",
    "pprint(model.traverse(wall, max_levels=1))"
   ]
  },
  {
   "cell_type": "code",
   "execution_count": 25,
   "metadata": {},
   "outputs": [],
   "source": [
    "wall.Name = 'My new wall name'"
   ]
  },
  {
   "cell_type": "code",
   "execution_count": 26,
   "metadata": {},
   "outputs": [
    {
     "name": "stdout",
     "output_type": "stream",
     "text": [
      "#15042=IfcWallStandardCase('2XPyKWY018sA1ygZKgQPtU',#12,'My new wall name',$,$,#14983,#15037,'BC6F0F70-6195-495E-A2-FC-239713029DB1',$)\n"
     ]
    }
   ],
   "source": [
    "pprint(wall)"
   ]
  },
  {
   "cell_type": "code",
   "execution_count": 28,
   "metadata": {},
   "outputs": [],
   "source": [
    "ifcopenshell.guid.new()\n",
    "wall.GlobalId = ifcopenshell.guid.new()"
   ]
  },
  {
   "cell_type": "code",
   "execution_count": 29,
   "metadata": {},
   "outputs": [
    {
     "data": {
      "text/plain": [
       "#15042=IfcWallStandardCase('24IHxdzGH4WBo2Gd9reRuU',#12,'My new wall name',$,$,#14983,#15037,'BC6F0F70-6195-495E-A2-FC-239713029DB1',$)"
      ]
     },
     "execution_count": 29,
     "metadata": {},
     "output_type": "execute_result"
    }
   ],
   "source": [
    "wall"
   ]
  },
  {
   "cell_type": "code",
   "execution_count": 30,
   "metadata": {},
   "outputs": [
    {
     "name": "stdout",
     "output_type": "stream",
     "text": [
      "{#15074=IfcRelAssociatesMaterial('0Oybh3lJJ2xSFV6WZ3tS9k',#12,$,$,(#15042),#15072),\n",
      " #17049=IfcRelConnectsPathElements('1vGdhxc6IUK2fPFUdKXu4r',#12,$,$,$,#17040,#15042,(),(),.ATSTART.,.ATEND.),\n",
      " #31484=IfcRelConnectsPathElements('2$XGtUghxM$ohkct50ncKC',#12,$,$,$,#31470,#15042,(),(),.ATEND.,.ATPATH.),\n",
      " #14517=IfcRelContainedInSpatialStructure('13J1BKcWxmCqHLM0nJ4nFJ',#12,$,$,(#14502,#15042,#15372,#15848,#16507,#16982,#17040,#17468,#18407,#18465,#18698,#19199,#19504,#20069,#20268,#20299,#20329,#20374,#20598,#20808,#21966,#23024,#23944,#27013,#27421,#27833,#28113,#31079,#31470,#31818,#32098,#32407,#32829,#33109,#33389,#33672,#34509,#35053),#479),\n",
      " #15157=IfcRelDefinesByProperties('16oiHR3wk3Xm_oKuvXa7iw',#12,$,$,(#15042),#15124),\n",
      " #15082=IfcRelDefinesByProperties('1XHlCNqAFH0tlvMzR6N0fY',#12,$,$,(#15042),#15079),\n",
      " #15090=IfcRelDefinesByProperties('28j1CHGQqsg8bOIv_AhSyO',#12,$,$,(#15042),#15087),\n",
      " #15171=IfcRelDefinesByProperties('2rF$g0UZGGPpjaTWxrJdtz',#12,$,$,(#15042),#15169),\n",
      " #15231=IfcRelDefinesByProperties('3Q0nMR5elnJFWzAhgkZqe1',#12,$,$,(#15042),#15229),\n",
      " #15253=IfcRelDefinesByType('05I0_KDnzQTr7CWw5aGQVc',#12,$,$,(#15042,#17040,#18465,#18698,#20598),#15234),\n",
      " #76511=IfcRelSpaceBoundary('0F8DHwVIWaA92A8pankadM',#12,'2ndLevel','2a',#20909,#15042,#76510,.PHYSICAL.,.INTERNAL.),\n",
      " #77287=IfcRelSpaceBoundary('3GVjzXXdGlJ3KdeRhHKfU_',#12,'2ndLevel','2a',#33774,#15042,#77286,.PHYSICAL.,.INTERNAL.)}\n"
     ]
    }
   ],
   "source": [
    "pprint(model.get_inverse(wall))"
   ]
  },
  {
   "cell_type": "code",
   "execution_count": 31,
   "metadata": {},
   "outputs": [],
   "source": [
    "model.write('new.ifc')"
   ]
  },
  {
   "cell_type": "code",
   "execution_count": 32,
   "metadata": {},
   "outputs": [],
   "source": [
    "ifc = ifcopenshell.file()\n",
    "# Or if you want a particular schema:\n",
    "ifc = ifcopenshell.file(schema='IFC4')"
   ]
  },
  {
   "cell_type": "code",
   "execution_count": 35,
   "metadata": {},
   "outputs": [
    {
     "name": "stdout",
     "output_type": "stream",
     "text": [
      "[#1=IfcWall($,$,$,$,$,$,$,$,$), #2=IfcWall($,$,$,$,$,$,$,$,$)]\n"
     ]
    }
   ],
   "source": [
    "# Will return #1=IfcWall($,$,$,$,$,$,$,$,$) - notice all of the attributes are blank!\n",
    "new_wall = ifc.createIfcWall()\n",
    "# Will return a list with our wall in it: [#1=IfcWall($,$,$,$,$,$,$,$,$)]\n",
    "print(ifc.by_type('IfcWall'))"
   ]
  },
  {
   "cell_type": "code",
   "execution_count": 36,
   "metadata": {},
   "outputs": [
    {
     "data": {
      "text/plain": [
       "#3=IfcWall($,$,$,$,$,$,$,$,$)"
      ]
     },
     "execution_count": 36,
     "metadata": {},
     "output_type": "execute_result"
    }
   ],
   "source": [
    "ifc.create_entity('IfcWall')"
   ]
  },
  {
   "cell_type": "code",
   "execution_count": 37,
   "metadata": {},
   "outputs": [
    {
     "name": "stdout",
     "output_type": "stream",
     "text": [
      "[#1=IfcWall($,$,$,$,$,$,$,$,$),\n",
      " #2=IfcWall($,$,$,$,$,$,$,$,$),\n",
      " #3=IfcWall($,$,$,$,$,$,$,$,$)]\n"
     ]
    }
   ],
   "source": [
    "pprint(ifc.by_type('IfcWall'))"
   ]
  },
  {
   "cell_type": "code",
   "execution_count": 38,
   "metadata": {},
   "outputs": [
    {
     "data": {
      "text/plain": [
       "#4=IfcWall('2QezEJTP5D4OLKtR6AVcoo',$,'Wall Name',$,$,$,$,$,$)"
      ]
     },
     "execution_count": 38,
     "metadata": {},
     "output_type": "execute_result"
    }
   ],
   "source": [
    "ifc.create_entity('IfcWall', GlobalId=ifcopenshell.guid.new(), Name='Wall Name')"
   ]
  },
  {
   "cell_type": "code",
   "execution_count": 39,
   "metadata": {},
   "outputs": [],
   "source": [
    "wall = ifc.createIfcWall()\n",
    "wall.OwnerHistory = ifc.createIfcOwnerHistory()"
   ]
  },
  {
   "cell_type": "code",
   "execution_count": 40,
   "metadata": {},
   "outputs": [
    {
     "name": "stdout",
     "output_type": "stream",
     "text": [
      "[#1=IfcWall($,$,$,$,$,$,$,$,$),\n",
      " #2=IfcWall($,$,$,$,$,$,$,$,$),\n",
      " #3=IfcWall($,$,$,$,$,$,$,$,$),\n",
      " #4=IfcWall('2QezEJTP5D4OLKtR6AVcoo',$,'Wall Name',$,$,$,$,$,$),\n",
      " #5=IfcWall($,#6,$,$,$,$,$,$,$)]\n"
     ]
    }
   ],
   "source": [
    "pprint(ifc.by_type('IfcWall'))"
   ]
  },
  {
   "cell_type": "code",
   "execution_count": 44,
   "metadata": {},
   "outputs": [
    {
     "data": {
      "text/plain": [
       "#1=IfcWall('2QezEJTP5D4OLKtR6AVcoo',$,'Wall Name',$,$,$,$,$,$)"
      ]
     },
     "execution_count": 44,
     "metadata": {},
     "output_type": "execute_result"
    }
   ],
   "source": [
    "wall = ifc.by_type('IfcWall')[3]\n",
    "new_model = ifcopenshell.file()\n",
    "new_model.add(wall)"
   ]
  },
  {
   "cell_type": "code",
   "execution_count": 47,
   "metadata": {},
   "outputs": [
    {
     "data": {
      "text/plain": [
       "[#1=IfcWall('2QezEJTP5D4OLKtR6AVcoo',$,'Wall Name',$,$,$,$,$,$)]"
      ]
     },
     "execution_count": 47,
     "metadata": {},
     "output_type": "execute_result"
    }
   ],
   "source": [
    "new_model.by_type('IfcWall')"
   ]
  },
  {
   "cell_type": "code",
   "execution_count": 48,
   "metadata": {},
   "outputs": [
    {
     "data": {
      "text/plain": [
       "#4=IfcWall('2QezEJTP5D4OLKtR6AVcoo',$,'Wall Name',$,$,$,$,$,$)"
      ]
     },
     "execution_count": 48,
     "metadata": {},
     "output_type": "execute_result"
    }
   ],
   "source": [
    "wall"
   ]
  },
  {
   "cell_type": "code",
   "execution_count": 46,
   "metadata": {},
   "outputs": [
    {
     "ename": "RuntimeError",
     "evalue": "Instance #4 not found",
     "output_type": "error",
     "traceback": [
      "\u001b[0;31m---------------------------------------------------------------------------\u001b[0m",
      "\u001b[0;31mRuntimeError\u001b[0m                              Traceback (most recent call last)",
      "Cell \u001b[0;32mIn[46], line 1\u001b[0m\n\u001b[0;32m----> 1\u001b[0m new_model\u001b[39m.\u001b[39;49mremove(wall)\n",
      "File \u001b[0;32m/opt/homebrew/Caskroom/miniforge/base/envs/ifcjson/lib/python3.11/site-packages/ifcopenshell/file.py:437\u001b[0m, in \u001b[0;36mfile.remove\u001b[0;34m(self, inst)\u001b[0m\n\u001b[1;32m    435\u001b[0m \u001b[39mif\u001b[39;00m \u001b[39mself\u001b[39m\u001b[39m.\u001b[39mtransaction:\n\u001b[1;32m    436\u001b[0m     \u001b[39mself\u001b[39m\u001b[39m.\u001b[39mtransaction\u001b[39m.\u001b[39mstore_delete(inst)\n\u001b[0;32m--> 437\u001b[0m \u001b[39mreturn\u001b[39;00m \u001b[39mself\u001b[39;49m\u001b[39m.\u001b[39;49mwrapped_data\u001b[39m.\u001b[39;49mremove(inst\u001b[39m.\u001b[39;49mwrapped_data)\n",
      "File \u001b[0;32m/opt/homebrew/Caskroom/miniforge/base/envs/ifcjson/lib/python3.11/site-packages/ifcopenshell/ifcopenshell_wrapper.py:3543\u001b[0m, in \u001b[0;36mfile.remove\u001b[0;34m(self, entity)\u001b[0m\n\u001b[1;32m   3541\u001b[0m \u001b[39mdef\u001b[39;00m \u001b[39mremove\u001b[39m(\u001b[39mself\u001b[39m, entity):\n\u001b[1;32m   3542\u001b[0m \u001b[39m    \u001b[39m\u001b[39mr\u001b[39m\u001b[39m\"\"\"remove(file self, entity_instance entity)\"\"\"\u001b[39;00m\n\u001b[0;32m-> 3543\u001b[0m     \u001b[39mreturn\u001b[39;00m _ifcopenshell_wrapper\u001b[39m.\u001b[39;49mfile_remove(\u001b[39mself\u001b[39;49m, entity)\n",
      "\u001b[0;31mRuntimeError\u001b[0m: Instance #4 not found"
     ]
    }
   ],
   "source": [
    "new_model.remove(wall)"
   ]
  },
  {
   "cell_type": "code",
   "execution_count": null,
   "metadata": {},
   "outputs": [],
   "source": []
  }
 ],
 "metadata": {
  "kernelspec": {
   "display_name": "ifcjson",
   "language": "python",
   "name": "python3"
  },
  "language_info": {
   "codemirror_mode": {
    "name": "ipython",
    "version": 3
   },
   "file_extension": ".py",
   "mimetype": "text/x-python",
   "name": "python",
   "nbconvert_exporter": "python",
   "pygments_lexer": "ipython3",
   "version": "3.11.3"
  },
  "orig_nbformat": 4
 },
 "nbformat": 4,
 "nbformat_minor": 2
}
